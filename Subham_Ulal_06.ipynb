{
  "cells": [
    {
      "cell_type": "markdown",
      "metadata": {
        "id": "view-in-github",
        "colab_type": "text"
      },
      "source": [
        "<a href=\"https://colab.research.google.com/github/subhamulal/image-classification-/blob/main/Subham_Ulal_06.ipynb\" target=\"_parent\"><img src=\"https://colab.research.google.com/assets/colab-badge.svg\" alt=\"Open In Colab\"/></a>"
      ]
    },
    {
      "cell_type": "code",
      "execution_count": null,
      "metadata": {
        "colab": {
          "base_uri": "https://localhost:8080/"
        },
        "id": "KijtA-V8c-ZS",
        "outputId": "e5434c51-2da3-440e-81c2-a09b0352454b"
      },
      "outputs": [
        {
          "name": "stdout",
          "output_type": "stream",
          "text": [
            "Reading package lists... Done\n",
            "Building dependency tree... Done\n",
            "Reading state information... Done\n",
            "unrar is already the newest version (1:6.1.5-1ubuntu0.1).\n",
            "0 upgraded, 0 newly installed, 0 to remove and 30 not upgraded.\n",
            "Requirement already satisfied: rarfile in /usr/local/lib/python3.11/dist-packages (4.2)\n"
          ]
        }
      ],
      "source": [
        "!apt-get install unrar\n",
        "!pip install rarfile\n"
      ]
    },
    {
      "cell_type": "code",
      "execution_count": null,
      "metadata": {
        "id": "Q0z86qIRgE5Y"
      },
      "outputs": [],
      "source": [
        "import rarfile\n",
        "\n",
        "rar_path = \"/content/3_class_tumor.rar\"\n",
        "extract_path = \"/content/extracted\"  # Path where images will be extracted\n",
        "\n",
        "rar = rarfile.RarFile(rar_path)\n",
        "rar.extractall(extract_path)\n"
      ]
    },
    {
      "cell_type": "code",
      "execution_count": null,
      "metadata": {
        "id": "oZo_mgo4hCjO"
      },
      "outputs": [],
      "source": [
        "import tensorflow as tf\n",
        "from tensorflow import keras\n",
        "from tensorflow.keras import layers, models\n",
        "from tensorflow.keras.applications import ResNet50\n",
        "from tensorflow.keras.preprocessing.image import ImageDataGenerator\n",
        "import os"
      ]
    },
    {
      "cell_type": "code",
      "execution_count": null,
      "metadata": {
        "id": "V9VlqR-lhg_m"
      },
      "outputs": [],
      "source": [
        "img_size = (224, 224)\n",
        "batch_size = 32"
      ]
    },
    {
      "cell_type": "code",
      "execution_count": null,
      "metadata": {
        "id": "upZPGRL8iDXg"
      },
      "outputs": [],
      "source": [
        "datagen = ImageDataGenerator(\n",
        "    rescale=1./255,\n",
        "    validation_split=0.2\n",
        ")"
      ]
    },
    {
      "cell_type": "code",
      "execution_count": null,
      "metadata": {
        "colab": {
          "base_uri": "https://localhost:8080/"
        },
        "id": "6jiB5ZZ-im1H",
        "outputId": "c98a4eaa-b084-40f8-c7fb-88653e77fb60"
      },
      "outputs": [
        {
          "name": "stdout",
          "output_type": "stream",
          "text": [
            "Found 2452 images belonging to 1 classes.\n",
            "Found 612 images belonging to 1 classes.\n"
          ]
        }
      ],
      "source": [
        "train_generator = datagen.flow_from_directory(\n",
        "    extract_path,\n",
        "    target_size=img_size,\n",
        "    batch_size=batch_size,\n",
        "    class_mode='categorical',  # 🔥 Ensures one-hot encoding\n",
        "    subset='training'\n",
        ")\n",
        "\n",
        "val_generator = datagen.flow_from_directory(\n",
        "    extract_path,\n",
        "    target_size=img_size,\n",
        "    batch_size=batch_size,\n",
        "    class_mode='categorical',  # 🔥 Ensures one-hot encoding\n",
        "    subset='validation'\n",
        ")\n"
      ]
    },
    {
      "cell_type": "code",
      "execution_count": null,
      "metadata": {
        "colab": {
          "base_uri": "https://localhost:8080/"
        },
        "id": "YPvEosvFvFIf",
        "outputId": "af44fc51-f5de-42ae-f80b-387e0e602b08"
      },
      "outputs": [
        {
          "name": "stdout",
          "output_type": "stream",
          "text": [
            "Sample label shape: (32, 1)\n",
            "Labels: [[1.]\n",
            " [1.]\n",
            " [1.]\n",
            " [1.]\n",
            " [1.]]\n"
          ]
        }
      ],
      "source": [
        "for images, labels in train_generator:\n",
        "    print(\"Sample label shape:\", labels.shape)\n",
        "    print(\"Labels:\", labels[:5])  # Print first 5 labels\n",
        "    break"
      ]
    },
    {
      "cell_type": "code",
      "execution_count": null,
      "metadata": {
        "id": "yDoyqhfhn6uB"
      },
      "outputs": [],
      "source": [
        "base_model = ResNet50(weights='imagenet', include_top=False, input_shape=(224, 224, 3))\n",
        "base_model.trainable = False"
      ]
    },
    {
      "cell_type": "code",
      "execution_count": null,
      "metadata": {
        "id": "iZSAnCuXoKFy"
      },
      "outputs": [],
      "source": [
        "model = models.Sequential([\n",
        "    base_model,\n",
        "    layers.GlobalAveragePooling2D(),\n",
        "    layers.Dense(256, activation='relu'),\n",
        "    layers.Dropout(0.5),\n",
        "    layers.Dense(3, activation='softmax')  # ✅ Ensure 3 output neurons\n",
        "])"
      ]
    },
    {
      "cell_type": "code",
      "execution_count": null,
      "metadata": {
        "id": "AXEeDjgnoSCi"
      },
      "outputs": [],
      "source": [
        "model.compile(optimizer='adam', loss='sparse_categorical_crossentropy', metrics=['accuracy','f1_score'])\n"
      ]
    },
    {
      "cell_type": "code",
      "execution_count": null,
      "metadata": {
        "colab": {
          "background_save": true,
          "base_uri": "https://localhost:8080/"
        },
        "id": "L5EMVcZkodZ3",
        "outputId": "325d838b-9e72-46c2-c0c8-00821266a6e8"
      },
      "outputs": [
        {
          "name": "stdout",
          "output_type": "stream",
          "text": [
            "Epoch 1/5\n",
            "\u001b[1m77/77\u001b[0m \u001b[32m━━━━━━━━━━━━━━━━━━━━\u001b[0m\u001b[37m\u001b[0m \u001b[1m544s\u001b[0m 7s/step - accuracy: 1.0000 - f1_score: 0.3333 - loss: 7.4409e-07 - val_accuracy: 1.0000 - val_f1_score: 0.3333 - val_loss: 0.0000e+00\n",
            "Epoch 2/5\n",
            "\u001b[1m77/77\u001b[0m \u001b[32m━━━━━━━━━━━━━━━━━━━━\u001b[0m\u001b[37m\u001b[0m \u001b[1m534s\u001b[0m 7s/step - accuracy: 1.0000 - f1_score: 0.3333 - loss: 5.8185e-09 - val_accuracy: 1.0000 - val_f1_score: 0.3333 - val_loss: 0.0000e+00\n",
            "Epoch 3/5\n",
            "\u001b[1m77/77\u001b[0m \u001b[32m━━━━━━━━━━━━━━━━━━━━\u001b[0m\u001b[37m\u001b[0m \u001b[1m527s\u001b[0m 7s/step - accuracy: 1.0000 - f1_score: 0.3333 - loss: 5.6210e-09 - val_accuracy: 1.0000 - val_f1_score: 0.3333 - val_loss: 0.0000e+00\n",
            "Epoch 4/5\n",
            "\u001b[1m77/77\u001b[0m \u001b[32m━━━━━━━━━━━━━━━━━━━━\u001b[0m\u001b[37m\u001b[0m \u001b[1m529s\u001b[0m 7s/step - accuracy: 1.0000 - f1_score: 0.3333 - loss: 3.2122e-09 - val_accuracy: 1.0000 - val_f1_score: 0.3333 - val_loss: 0.0000e+00\n",
            "Epoch 5/5\n",
            "\u001b[1m77/77\u001b[0m \u001b[32m━━━━━━━━━━━━━━━━━━━━\u001b[0m\u001b[37m\u001b[0m \u001b[1m565s\u001b[0m 7s/step - accuracy: 1.0000 - f1_score: 0.3333 - loss: 2.7595e-09 - val_accuracy: 1.0000 - val_f1_score: 0.3333 - val_loss: 0.0000e+00\n"
          ]
        }
      ],
      "source": [
        "history = model.fit(train_generator, epochs=5, validation_data=val_generator)"
      ]
    },
    {
      "cell_type": "code",
      "execution_count": null,
      "metadata": {
        "colab": {
          "base_uri": "https://localhost:8080/"
        },
        "id": "OXtgIXg00o5S",
        "outputId": "ca5ff0bb-cbd3-415b-a3c5-4a3d0b00fd08"
      },
      "outputs": [
        {
          "name": "stderr",
          "output_type": "stream",
          "text": [
            "WARNING:absl:You are saving your model as an HDF5 file via `model.save()` or `keras.saving.save_model(model)`. This file format is considered legacy. We recommend using instead the native Keras format, e.g. `model.save('my_model.keras')` or `keras.saving.save_model(model, 'my_model.keras')`. \n"
          ]
        },
        {
          "name": "stdout",
          "output_type": "stream",
          "text": [
            "Model saved as brain_tumor_classification.h5\n"
          ]
        }
      ],
      "source": [
        "model.save(\"brain_tumor_classification.h5\")\n",
        "print(\"Model saved as brain_tumor_classification.h5\")"
      ]
    }
  ],
  "metadata": {
    "accelerator": "GPU",
    "colab": {
      "gpuType": "T4",
      "provenance": [],
      "authorship_tag": "ABX9TyP8YAtFScvFuatjg0tN6nXs",
      "include_colab_link": true
    },
    "kernelspec": {
      "display_name": "Python 3",
      "name": "python3"
    },
    "language_info": {
      "name": "python"
    }
  },
  "nbformat": 4,
  "nbformat_minor": 0
}